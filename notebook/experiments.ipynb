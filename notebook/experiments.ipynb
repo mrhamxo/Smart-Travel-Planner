{
 "cells": [
  {
   "cell_type": "code",
   "execution_count": 7,
   "id": "d1f2fcba",
   "metadata": {},
   "outputs": [],
   "source": [
    "from dotenv import load_dotenv\n",
    "from langchain_groq import ChatGroq\n",
    "from langchain.tools import tool\n",
    "from langchain_core.tools import StructuredTool\n",
    "from pydantic import BaseModel, Field"
   ]
  },
  {
   "cell_type": "code",
   "execution_count": 3,
   "id": "52e1af1d",
   "metadata": {},
   "outputs": [],
   "source": [
    "llm=ChatGroq(model=\"openai/gpt-oss-120b\")"
   ]
  },
  {
   "cell_type": "code",
   "execution_count": 4,
   "id": "ddc6e061",
   "metadata": {},
   "outputs": [
    {
     "data": {
      "text/plain": [
       "AIMessage(content=\"Hey there! I'm doing great, thanks for asking. How can I help you today?\", additional_kwargs={'reasoning_content': 'We need to respond. The system messages say we are ChatGPT, with normal behavior. The user asks \"hi, how are you?\" We can respond politely.'}, response_metadata={'token_usage': {'completion_tokens': 61, 'prompt_tokens': 77, 'total_tokens': 138, 'completion_time': 0.129125104, 'prompt_time': 0.002871345, 'queue_time': 0.003780085, 'total_time': 0.131996449}, 'model_name': 'openai/gpt-oss-120b', 'system_fingerprint': 'fp_213abb2467', 'service_tier': 'on_demand', 'finish_reason': 'stop', 'logprobs': None}, id='run--fd14783a-4d21-411e-a61e-769bb780f73b-0', usage_metadata={'input_tokens': 77, 'output_tokens': 61, 'total_tokens': 138})"
      ]
     },
     "execution_count": 4,
     "metadata": {},
     "output_type": "execute_result"
    }
   ],
   "source": [
    "llm.invoke(\"hi, how are you?\")"
   ]
  },
  {
   "cell_type": "code",
   "execution_count": 8,
   "id": "6c3dad64",
   "metadata": {},
   "outputs": [],
   "source": [
    "@tool\n",
    "def multiply(a: int, b: int) -> int:\n",
    "    \"\"\"\n",
    "    Multiply two integers.\n",
    "\n",
    "    Args:\n",
    "        a (int): The first integer.\n",
    "        b (int): The second integer.\n",
    "\n",
    "    Returns:\n",
    "        int: The product of a and b.\n",
    "    \"\"\"\n",
    "    return a * b"
   ]
  },
  {
   "cell_type": "code",
   "execution_count": 9,
   "id": "cd02affa",
   "metadata": {},
   "outputs": [
    {
     "name": "stdout",
     "output_type": "stream",
     "text": [
      "name='multiply' description='Multiply two integers.\\n\\nArgs:\\n    a (int): The first integer.\\n    b (int): The second integer.\\n\\nReturns:\\n    int: The product of a and b.' args_schema=<class 'langchain_core.utils.pydantic.multiply'> func=<function multiply at 0x0000021FA9311E40>\n"
     ]
    }
   ],
   "source": [
    "print(multiply)"
   ]
  },
  {
   "cell_type": "code",
   "execution_count": 10,
   "id": "58f2cfb9",
   "metadata": {},
   "outputs": [],
   "source": [
    "class WeatherInput(BaseModel):\n",
    "    city: str"
   ]
  },
  {
   "cell_type": "code",
   "execution_count": null,
   "id": "501b2b08",
   "metadata": {},
   "outputs": [],
   "source": [
    "def get_weather(city: str) -> str:\n",
    "    \"\"\"\n",
    "    Get the weather for a given city.\n",
    "\n",
    "    Args:\n",
    "        city (str): The name of the city.\n",
    "\n",
    "    Returns:\n",
    "        str: A string describing the weather in the city.\n",
    "    \"\"\"\n",
    "    return f\"The weather in {city} is sunny.\""
   ]
  },
  {
   "cell_type": "code",
   "execution_count": null,
   "id": "a995090a",
   "metadata": {},
   "outputs": [],
   "source": [
    "weather_tool = StructuredTool.from_function(\n",
    "    func = get_weather,\n",
    "    name = \"get_weather\",\n",
    "    description = \"Fetches real-time weather data for a city\",\n",
    "    args_schema = WeatherInput,  \n",
    ")"
   ]
  },
  {
   "cell_type": "code",
   "execution_count": null,
   "id": "963f3fb5",
   "metadata": {},
   "outputs": [],
   "source": [
    "class WeatherInput(BaseModel):\n",
    "    city: str = Field(..., description=\"City name\")\n",
    "    units: str = Field(\"metric\", description=\"metric or imperial\")"
   ]
  },
  {
   "cell_type": "code",
   "execution_count": null,
   "id": "5fe6dfb6",
   "metadata": {},
   "outputs": [],
   "source": [
    "class GetWeatherTool(StructuredTool):\n",
    "    name: ClassVar[str] = \"get_weather\"           \n",
    "    description: ClassVar[str] = (\n",
    "        \"Fetches weather data for a city\"\n",
    "    )\n",
    "    \n",
    "    args_schema: ClassVar[Type[BaseModel]] = WeatherInput\n",
    "\n",
    "    def _run(self, city: str, units: str = \"metric\") -> str:\n",
    "        return get_weather(city, units)"
   ]
  }
 ],
 "metadata": {
  "kernelspec": {
   "display_name": "myenv",
   "language": "python",
   "name": "python3"
  },
  "language_info": {
   "codemirror_mode": {
    "name": "ipython",
    "version": 3
   },
   "file_extension": ".py",
   "mimetype": "text/x-python",
   "name": "python",
   "nbconvert_exporter": "python",
   "pygments_lexer": "ipython3",
   "version": "3.11.9"
  }
 },
 "nbformat": 4,
 "nbformat_minor": 5
}
